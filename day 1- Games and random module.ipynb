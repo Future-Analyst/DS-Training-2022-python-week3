{
 "cells": [
  {
   "cell_type": "code",
   "execution_count": 16,
   "metadata": {},
   "outputs": [
    {
     "name": "stdout",
     "output_type": "stream",
     "text": [
      "Make a guess(1-9): 4\n",
      "Failed!!\n",
      "You have 4 trials left\n",
      "Try again\n",
      "Make a guess(1-9): 3\n",
      "Failed!!\n",
      "You have 3 trials left\n",
      "Try again\n",
      "Make a guess(1-9): 3\n",
      "Failed!!\n",
      "You have 2 trials left\n",
      "Try again\n",
      "Make a guess(1-9): 5\n",
      "Congrats!!\n",
      "You got it\n"
     ]
    }
   ],
   "source": [
    "import random as dan\n",
    "comp_guess= dan.randint(1,9)\n",
    "for i in range(5):\n",
    "    user_guess=int(input(\"Make a guess(1-9): \"))\n",
    "    if(user_guess==comp_guess):\n",
    "        print(\"Congrats!!\\nYou got it\")\n",
    "        break\n",
    "    else:\n",
    "        print(f\"Failed!!\\nYou have {5-(i+1)} trials left\\nTry again\")"
   ]
  },
  {
   "cell_type": "code",
   "execution_count": 6,
   "metadata": {},
   "outputs": [
    {
     "data": {
      "text/plain": [
       "'GeorgeBoma'"
      ]
     },
     "execution_count": 6,
     "metadata": {},
     "output_type": "execute_result"
    }
   ],
   "source": [
    "name=\"George\"\n",
    "fname=\"Boma\"\n",
    "name+fname"
   ]
  },
  {
   "cell_type": "code",
   "execution_count": 7,
   "metadata": {},
   "outputs": [
    {
     "data": {
      "text/plain": [
       "'George Boma'"
      ]
     },
     "execution_count": 7,
     "metadata": {},
     "output_type": "execute_result"
    }
   ],
   "source": [
    "name+\" \"+fname"
   ]
  },
  {
   "cell_type": "code",
   "execution_count": 8,
   "metadata": {},
   "outputs": [
    {
     "data": {
      "text/plain": [
       "'GeorgeBoma'"
      ]
     },
     "execution_count": 8,
     "metadata": {},
     "output_type": "execute_result"
    }
   ],
   "source": [
    "\"{}{}\".format(name,fname)"
   ]
  },
  {
   "cell_type": "code",
   "execution_count": 9,
   "metadata": {},
   "outputs": [
    {
     "data": {
      "text/plain": [
       "'George Boma'"
      ]
     },
     "execution_count": 9,
     "metadata": {},
     "output_type": "execute_result"
    }
   ],
   "source": [
    "\"{} {}\".format(name,fname)"
   ]
  },
  {
   "cell_type": "code",
   "execution_count": 10,
   "metadata": {},
   "outputs": [
    {
     "data": {
      "text/plain": [
       "'George, Boma'"
      ]
     },
     "execution_count": 10,
     "metadata": {},
     "output_type": "execute_result"
    }
   ],
   "source": [
    "\"{}, {}\".format(name,fname)"
   ]
  },
  {
   "cell_type": "code",
   "execution_count": 11,
   "metadata": {},
   "outputs": [
    {
     "data": {
      "text/plain": [
       "'Boma George'"
      ]
     },
     "execution_count": 11,
     "metadata": {},
     "output_type": "execute_result"
    }
   ],
   "source": [
    "\"{1} {0}\".format(name,fname)"
   ]
  },
  {
   "cell_type": "code",
   "execution_count": 12,
   "metadata": {},
   "outputs": [
    {
     "data": {
      "text/plain": [
       "'George Boma'"
      ]
     },
     "execution_count": 12,
     "metadata": {},
     "output_type": "execute_result"
    }
   ],
   "source": [
    "f\"{name} {fname}\""
   ]
  },
  {
   "cell_type": "code",
   "execution_count": 17,
   "metadata": {},
   "outputs": [
    {
     "name": "stdout",
     "output_type": "stream",
     "text": [
      "Make a guess(10-100): 50\n",
      "Your guess is low!\n",
      "Try again!\n",
      "Make a guess(10-100): 75\n",
      "Your guess is too high!\n",
      "Try again!\n",
      "Make a guess(10-100): 62\n",
      "Your guess is too high!\n",
      "Try again!\n",
      "Make a guess(10-100): 51\n",
      "Your guess is low!\n",
      "Try again!\n",
      "Make a guess(10-100): 56\n",
      "Your guess is low!\n",
      "Try again!\n",
      "Make a guess(10-100): 59\n",
      "Your guess is low!\n",
      "Try again!\n",
      "Make a guess(10-100): 60\n",
      "Your guess is low!\n",
      "Try again!\n",
      "Make a guess(10-100): 61\n",
      "Congrats!!\n",
      "You got it\n"
     ]
    }
   ],
   "source": [
    "import random as dan\n",
    "low=10\n",
    "high=100\n",
    "comp_guess= dan.randint(low,high)\n",
    "for i in range(10):\n",
    "    user_guess=int(input(f\"Make a guess({low}-{high}): \"))\n",
    "    if user_guess>high or user_guess<low:\n",
    "        print(\"Invalid Entry!\")\n",
    "    elif(user_guess>comp_guess):\n",
    "        print(\"Your guess is too high!\\nTry again!\")\n",
    "    elif user_guess<comp_guess:\n",
    "        print(\"Your guess is low!\\nTry again!\")\n",
    "    elif(user_guess==comp_guess):\n",
    "        print(\"Congrats!!\\nYou got it\")\n",
    "        break\n",
    "\n",
    "   "
   ]
  },
  {
   "cell_type": "code",
   "execution_count": 2,
   "metadata": {},
   "outputs": [],
   "source": [
    "from random import choice,choices"
   ]
  },
  {
   "cell_type": "code",
   "execution_count": 21,
   "metadata": {},
   "outputs": [
    {
     "data": {
      "text/plain": [
       "3"
      ]
     },
     "execution_count": 21,
     "metadata": {},
     "output_type": "execute_result"
    }
   ],
   "source": [
    "choice([2,5,1,9,3,67])"
   ]
  },
  {
   "cell_type": "code",
   "execution_count": 24,
   "metadata": {},
   "outputs": [
    {
     "data": {
      "text/plain": [
       "'Dan'"
      ]
     },
     "execution_count": 24,
     "metadata": {},
     "output_type": "execute_result"
    }
   ],
   "source": [
    "choice([\"Smith\",\"Dan\",\"Sophia\"])"
   ]
  },
  {
   "cell_type": "code",
   "execution_count": 33,
   "metadata": {},
   "outputs": [
    {
     "data": {
      "text/plain": [
       "['Smith', 'Dan']"
      ]
     },
     "execution_count": 33,
     "metadata": {},
     "output_type": "execute_result"
    }
   ],
   "source": [
    "choices([\"Smith\",\"Dan\",\"Sophia\"],k=2)"
   ]
  },
  {
   "cell_type": "code",
   "execution_count": 52,
   "metadata": {},
   "outputs": [
    {
     "data": {
      "text/plain": [
       "['Smith', 'Sophia']"
      ]
     },
     "execution_count": 52,
     "metadata": {},
     "output_type": "execute_result"
    }
   ],
   "source": [
    "choices([\"Smith\",\"Dan\",\"Sophia\"],k=2,weights=[0.8,0.1,0.1])"
   ]
  },
  {
   "cell_type": "code",
   "execution_count": 2,
   "metadata": {},
   "outputs": [
    {
     "name": "stdout",
     "output_type": "stream",
     "text": [
      "Make a choice: rock\n",
      "The computer chosed scissors\n",
      "\n",
      "You rock!!\n",
      "Make a choice: paper\n",
      "The computer chosed scissors\n",
      "\n",
      "You lost!!\n",
      "Make a choice: scissors\n",
      "The computer chosed rock\n",
      "\n",
      "Make a choice: 7\n",
      "The computer chosed scissors\n",
      "\n",
      "Make a choice: 8\n",
      "The computer chosed paper\n",
      "\n"
     ]
    }
   ],
   "source": [
    "from random import choice\n",
    "for i in range(5):\n",
    "    comp_choice=choice([\"rock\",\"paper\",\"scissors\"])\n",
    "    user_choice=input(\"Make a choice: \")\n",
    "    print(f\"The computer chosed {comp_choice}\")\n",
    "    print()\n",
    "    if user_choice==comp_choice:\n",
    "        print(\"It's a Draw\")\n",
    "    elif user_choice==\"rock\" and comp_choice==\"scissors\":\n",
    "        print(\"You rock!!\")\n",
    "    elif user_choice==\"rock\" and comp_choice==\"paper\":\n",
    "        print(\"You lost!!\")\n",
    "    elif user_choice==\"paper\" and comp_choice==\"scissors\":\n",
    "        print(\"You lost!!\") "
   ]
  },
  {
   "cell_type": "code",
   "execution_count": 4,
   "metadata": {},
   "outputs": [
    {
     "name": "stdout",
     "output_type": "stream",
     "text": [
      "Make a choice: rock\n",
      "The computer chosed paper\n",
      "\n",
      "You lost!!\n",
      "Make a choice: rock\n",
      "The computer chosed paper\n",
      "\n",
      "You lost!!\n",
      "Make a choice: rock\n",
      "The computer chosed rock\n",
      "\n",
      "It's a Draw\n"
     ]
    }
   ],
   "source": [
    "from random import choice\n",
    "while True:\n",
    "    comp_choice=choice([\"rock\",\"paper\",\"scissors\"])\n",
    "    user_choice=input(\"Make a choice: \")\n",
    "    print(f\"The computer chosed {comp_choice}\")\n",
    "    print()\n",
    "    if user_choice==comp_choice:\n",
    "        print(\"It's a Draw\")\n",
    "        break\n",
    "    elif user_choice==\"rock\" and comp_choice==\"scissors\":\n",
    "        print(\"You rock!!\")\n",
    "    elif user_choice==\"rock\" and comp_choice==\"paper\":\n",
    "        print(\"You lost!!\")\n",
    "    elif user_choice==\"paper\" and comp_choice==\"scissors\":\n",
    "        print(\"You lost!!\") "
   ]
  },
  {
   "cell_type": "code",
   "execution_count": null,
   "metadata": {},
   "outputs": [],
   "source": []
  }
 ],
 "metadata": {
  "kernelspec": {
   "display_name": "Python 3 (ipykernel)",
   "language": "python",
   "name": "python3"
  },
  "language_info": {
   "codemirror_mode": {
    "name": "ipython",
    "version": 3
   },
   "file_extension": ".py",
   "mimetype": "text/x-python",
   "name": "python",
   "nbconvert_exporter": "python",
   "pygments_lexer": "ipython3",
   "version": "3.9.12"
  }
 },
 "nbformat": 4,
 "nbformat_minor": 2
}
